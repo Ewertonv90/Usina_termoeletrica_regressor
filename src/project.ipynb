{
 "cells": [
  {
   "cell_type": "markdown",
   "metadata": {},
   "source": [
    "# Usina_termoeletrica_regressor\n",
    "Projeto de Data science usando regressão para prever a saída de energia elétrica horária líquida (MWh).\n",
    "\n",
    "Combined cycle power plant\n",
    "O dataset contém 9568 registros coletados de uma usina termelétrica de ciclo combinado ao longo de 6 anos (2006-2011). É composto pelas seguintes variáveis médias horárias: Temperatura (T), Pressão Ambiente (AP), Umidade Relativa (RH) e Vácuo de Exaustão (V); usadas para prever a saída de energia elétrica horária líquida (EP) da planta. Uma usina termelétrica de ciclo combinado combina o uso de dois sistemas de turbina, uma turbina a gás que queima combustível para gerar eletricidade e uma turbina a vapor que produz eletricidade adicional usando o vapor obtido do calor de exaustão da turbina a gás. O calor de exaustão da turbina a gás é convertido em vapor, que é canalizado para a turbina a vapor para geração adicional de energia elétrica.\n",
    "\n",
    "Objetivo: prever a saída de energia elétrica horária líquida (MW) a partir das variáveis de entrada.\n",
    "\n",
    "\n",
    "Descrição das variáveis:\n",
    "\n",
    "Temperatura (AT) na faixa de 1,81 ° C e 37,11 ° C;\n",
    "Pressão ambiente (AP) na faixa de 992,89-1033,30 milibar;\n",
    "Umidade relativa (RH) na faixa de 25,56% a 100,16%;\n",
    "Vácuo de exaustão (V) na faixa de 25,36-81,56 cm Hg\n",
    "Produção horária líquida de energia elétrica (PE) 420,26-495,76 MW. As médias foram tiradas de vários sensores localizados ao redor da planta que registram as variáveis ambientais a cada segundo. As variáveis são fornecidas sem normalização."
   ]
  },
  {
   "cell_type": "code",
   "execution_count": null,
   "metadata": {},
   "outputs": [],
   "source": [
    "import numpy as np\n",
    "import pandas as pd\n",
    "import seaborn as sns\n",
    "import matplotlib.pyplot as plt\n",
    "from sklearn.pipeline import Pipeline\n",
    "from sklearn.impute import SimpleImputer\n",
    "from sklearn.linear_model import LinearRegression\n",
    "from sklearn.ensemble import RandomForestRegressor\n",
    "from sklearn.model_selection import train_test_split \n",
    "from sklearn.metrics import mean_squared_error, r2_score \n",
    "from sklearn.preprocessing import PolynomialFeatures\n",
    "import mlflow\n",
    "from mlflow.models.signature import infer_signature"
   ]
  },
  {
   "cell_type": "code",
   "execution_count": null,
   "metadata": {},
   "outputs": [],
   "source": []
  }
 ],
 "metadata": {
  "kernelspec": {
   "display_name": "Python 3.9.7 64-bit",
   "language": "python",
   "name": "python3"
  },
  "language_info": {
   "name": "python",
   "version": "3.9.7"
  },
  "orig_nbformat": 4,
  "vscode": {
   "interpreter": {
    "hash": "11938c6bc6919ae2720b4d5011047913343b08a43b18698fd82dedb0d4417594"
   }
  }
 },
 "nbformat": 4,
 "nbformat_minor": 2
}
